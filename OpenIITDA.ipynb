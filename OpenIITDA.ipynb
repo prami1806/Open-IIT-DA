{
 "cells": [
  {
   "cell_type": "code",
   "execution_count": 38,
   "metadata": {},
   "outputs": [],
   "source": [
    "import numpy as np \n",
    "import pandas as pd"
   ]
  },
  {
   "cell_type": "code",
   "execution_count": 39,
   "metadata": {},
   "outputs": [],
   "source": [
    "df=pd.read_csv(r'Train_data.csv')\n"
   ]
  },
  {
   "cell_type": "code",
   "execution_count": 40,
   "metadata": {},
   "outputs": [
    {
     "data": {
      "text/html": [
       "<div>\n",
       "<style scoped>\n",
       "    .dataframe tbody tr th:only-of-type {\n",
       "        vertical-align: middle;\n",
       "    }\n",
       "\n",
       "    .dataframe tbody tr th {\n",
       "        vertical-align: top;\n",
       "    }\n",
       "\n",
       "    .dataframe thead th {\n",
       "        text-align: right;\n",
       "    }\n",
       "</style>\n",
       "<table border=\"1\" class=\"dataframe\">\n",
       "  <thead>\n",
       "    <tr style=\"text-align: right;\">\n",
       "      <th></th>\n",
       "      <th>id</th>\n",
       "      <th>acousticness</th>\n",
       "      <th>danceability</th>\n",
       "      <th>energy</th>\n",
       "      <th>explicit</th>\n",
       "      <th>instrumentalness</th>\n",
       "      <th>key</th>\n",
       "      <th>liveness</th>\n",
       "      <th>loudness</th>\n",
       "      <th>mode</th>\n",
       "      <th>release_date</th>\n",
       "      <th>speechiness</th>\n",
       "      <th>tempo</th>\n",
       "      <th>valence</th>\n",
       "      <th>year</th>\n",
       "      <th>duration-min</th>\n",
       "      <th>popularity</th>\n",
       "    </tr>\n",
       "  </thead>\n",
       "  <tbody>\n",
       "    <tr>\n",
       "      <th>0</th>\n",
       "      <td>2015</td>\n",
       "      <td>0.9490</td>\n",
       "      <td>0.2350</td>\n",
       "      <td>0.0276</td>\n",
       "      <td>No</td>\n",
       "      <td>0.927000</td>\n",
       "      <td>5</td>\n",
       "      <td>0.513</td>\n",
       "      <td>-27.398</td>\n",
       "      <td>Major</td>\n",
       "      <td>01-01-1947</td>\n",
       "      <td>0.0381</td>\n",
       "      <td>110.838</td>\n",
       "      <td>0.03980</td>\n",
       "      <td>1947</td>\n",
       "      <td>3.0</td>\n",
       "      <td>very low</td>\n",
       "    </tr>\n",
       "    <tr>\n",
       "      <th>1</th>\n",
       "      <td>15901</td>\n",
       "      <td>0.8550</td>\n",
       "      <td>0.4560</td>\n",
       "      <td>0.4850</td>\n",
       "      <td>No</td>\n",
       "      <td>0.088400</td>\n",
       "      <td>4</td>\n",
       "      <td>0.151</td>\n",
       "      <td>-10.046</td>\n",
       "      <td>Major</td>\n",
       "      <td>13-11-2020</td>\n",
       "      <td>0.0437</td>\n",
       "      <td>152.066</td>\n",
       "      <td>0.85900</td>\n",
       "      <td>2020</td>\n",
       "      <td>2.4</td>\n",
       "      <td>low</td>\n",
       "    </tr>\n",
       "    <tr>\n",
       "      <th>2</th>\n",
       "      <td>9002</td>\n",
       "      <td>0.8270</td>\n",
       "      <td>0.4950</td>\n",
       "      <td>0.4990</td>\n",
       "      <td>No</td>\n",
       "      <td>0.000000</td>\n",
       "      <td>0</td>\n",
       "      <td>0.401</td>\n",
       "      <td>-8.009</td>\n",
       "      <td>Minor</td>\n",
       "      <td>01-01-1950</td>\n",
       "      <td>0.0474</td>\n",
       "      <td>108.004</td>\n",
       "      <td>0.70900</td>\n",
       "      <td>1950</td>\n",
       "      <td>2.6</td>\n",
       "      <td>very low</td>\n",
       "    </tr>\n",
       "    <tr>\n",
       "      <th>3</th>\n",
       "      <td>6734</td>\n",
       "      <td>0.6540</td>\n",
       "      <td>0.6430</td>\n",
       "      <td>0.4690</td>\n",
       "      <td>No</td>\n",
       "      <td>0.108000</td>\n",
       "      <td>7</td>\n",
       "      <td>0.218</td>\n",
       "      <td>-15.917</td>\n",
       "      <td>Major</td>\n",
       "      <td>30-04-1974</td>\n",
       "      <td>0.0368</td>\n",
       "      <td>83.636</td>\n",
       "      <td>0.96400</td>\n",
       "      <td>1974</td>\n",
       "      <td>2.4</td>\n",
       "      <td>low</td>\n",
       "    </tr>\n",
       "    <tr>\n",
       "      <th>4</th>\n",
       "      <td>15563</td>\n",
       "      <td>0.7380</td>\n",
       "      <td>0.7050</td>\n",
       "      <td>0.3110</td>\n",
       "      <td>No</td>\n",
       "      <td>0.000000</td>\n",
       "      <td>5</td>\n",
       "      <td>0.322</td>\n",
       "      <td>-12.344</td>\n",
       "      <td>Major</td>\n",
       "      <td>01-01-1973</td>\n",
       "      <td>0.0488</td>\n",
       "      <td>117.260</td>\n",
       "      <td>0.78500</td>\n",
       "      <td>1973</td>\n",
       "      <td>3.4</td>\n",
       "      <td>average</td>\n",
       "    </tr>\n",
       "    <tr>\n",
       "      <th>...</th>\n",
       "      <td>...</td>\n",
       "      <td>...</td>\n",
       "      <td>...</td>\n",
       "      <td>...</td>\n",
       "      <td>...</td>\n",
       "      <td>...</td>\n",
       "      <td>...</td>\n",
       "      <td>...</td>\n",
       "      <td>...</td>\n",
       "      <td>...</td>\n",
       "      <td>...</td>\n",
       "      <td>...</td>\n",
       "      <td>...</td>\n",
       "      <td>...</td>\n",
       "      <td>...</td>\n",
       "      <td>...</td>\n",
       "      <td>...</td>\n",
       "    </tr>\n",
       "    <tr>\n",
       "      <th>12222</th>\n",
       "      <td>15343</td>\n",
       "      <td>0.0408</td>\n",
       "      <td>0.8090</td>\n",
       "      <td>0.8010</td>\n",
       "      <td>No</td>\n",
       "      <td>0.000000</td>\n",
       "      <td>1</td>\n",
       "      <td>0.353</td>\n",
       "      <td>-5.461</td>\n",
       "      <td>Major</td>\n",
       "      <td>01-07-2014</td>\n",
       "      <td>0.4070</td>\n",
       "      <td>81.940</td>\n",
       "      <td>0.74400</td>\n",
       "      <td>2014</td>\n",
       "      <td>3.4</td>\n",
       "      <td>average</td>\n",
       "    </tr>\n",
       "    <tr>\n",
       "      <th>12223</th>\n",
       "      <td>1701</td>\n",
       "      <td>0.9120</td>\n",
       "      <td>0.4510</td>\n",
       "      <td>0.2400</td>\n",
       "      <td>No</td>\n",
       "      <td>0.000002</td>\n",
       "      <td>1</td>\n",
       "      <td>0.175</td>\n",
       "      <td>-14.014</td>\n",
       "      <td>Major</td>\n",
       "      <td>01-01-1959</td>\n",
       "      <td>0.0351</td>\n",
       "      <td>134.009</td>\n",
       "      <td>0.70100</td>\n",
       "      <td>1959</td>\n",
       "      <td>2.0</td>\n",
       "      <td>very high</td>\n",
       "    </tr>\n",
       "    <tr>\n",
       "      <th>12224</th>\n",
       "      <td>3351</td>\n",
       "      <td>0.3280</td>\n",
       "      <td>0.5510</td>\n",
       "      <td>0.5640</td>\n",
       "      <td>No</td>\n",
       "      <td>0.002950</td>\n",
       "      <td>2</td>\n",
       "      <td>0.352</td>\n",
       "      <td>-9.298</td>\n",
       "      <td>Minor</td>\n",
       "      <td>01-01-1984</td>\n",
       "      <td>0.0338</td>\n",
       "      <td>124.883</td>\n",
       "      <td>0.89000</td>\n",
       "      <td>1984</td>\n",
       "      <td>2.5</td>\n",
       "      <td>low</td>\n",
       "    </tr>\n",
       "    <tr>\n",
       "      <th>12225</th>\n",
       "      <td>8879</td>\n",
       "      <td>0.1220</td>\n",
       "      <td>0.0608</td>\n",
       "      <td>0.9390</td>\n",
       "      <td>No</td>\n",
       "      <td>0.991000</td>\n",
       "      <td>1</td>\n",
       "      <td>0.912</td>\n",
       "      <td>-26.324</td>\n",
       "      <td>Major</td>\n",
       "      <td>09-01-2017</td>\n",
       "      <td>0.1180</td>\n",
       "      <td>73.234</td>\n",
       "      <td>0.00558</td>\n",
       "      <td>2017</td>\n",
       "      <td>3.1</td>\n",
       "      <td>high</td>\n",
       "    </tr>\n",
       "    <tr>\n",
       "      <th>12226</th>\n",
       "      <td>9711</td>\n",
       "      <td>0.0380</td>\n",
       "      <td>0.3890</td>\n",
       "      <td>0.7680</td>\n",
       "      <td>Yes</td>\n",
       "      <td>0.000000</td>\n",
       "      <td>1</td>\n",
       "      <td>0.119</td>\n",
       "      <td>-4.765</td>\n",
       "      <td>Major</td>\n",
       "      <td>24-07-2020</td>\n",
       "      <td>0.2560</td>\n",
       "      <td>90.146</td>\n",
       "      <td>0.33400</td>\n",
       "      <td>2020</td>\n",
       "      <td>3.1</td>\n",
       "      <td>high</td>\n",
       "    </tr>\n",
       "  </tbody>\n",
       "</table>\n",
       "<p>12227 rows × 17 columns</p>\n",
       "</div>"
      ],
      "text/plain": [
       "          id  acousticness  danceability  energy explicit  instrumentalness  \\\n",
       "0       2015        0.9490        0.2350  0.0276       No          0.927000   \n",
       "1      15901        0.8550        0.4560  0.4850       No          0.088400   \n",
       "2       9002        0.8270        0.4950  0.4990       No          0.000000   \n",
       "3       6734        0.6540        0.6430  0.4690       No          0.108000   \n",
       "4      15563        0.7380        0.7050  0.3110       No          0.000000   \n",
       "...      ...           ...           ...     ...      ...               ...   \n",
       "12222  15343        0.0408        0.8090  0.8010       No          0.000000   \n",
       "12223   1701        0.9120        0.4510  0.2400       No          0.000002   \n",
       "12224   3351        0.3280        0.5510  0.5640       No          0.002950   \n",
       "12225   8879        0.1220        0.0608  0.9390       No          0.991000   \n",
       "12226   9711        0.0380        0.3890  0.7680      Yes          0.000000   \n",
       "\n",
       "       key  liveness  loudness   mode release_date  speechiness    tempo  \\\n",
       "0        5     0.513   -27.398  Major   01-01-1947       0.0381  110.838   \n",
       "1        4     0.151   -10.046  Major   13-11-2020       0.0437  152.066   \n",
       "2        0     0.401    -8.009  Minor   01-01-1950       0.0474  108.004   \n",
       "3        7     0.218   -15.917  Major   30-04-1974       0.0368   83.636   \n",
       "4        5     0.322   -12.344  Major   01-01-1973       0.0488  117.260   \n",
       "...    ...       ...       ...    ...          ...          ...      ...   \n",
       "12222    1     0.353    -5.461  Major   01-07-2014       0.4070   81.940   \n",
       "12223    1     0.175   -14.014  Major   01-01-1959       0.0351  134.009   \n",
       "12224    2     0.352    -9.298  Minor   01-01-1984       0.0338  124.883   \n",
       "12225    1     0.912   -26.324  Major   09-01-2017       0.1180   73.234   \n",
       "12226    1     0.119    -4.765  Major   24-07-2020       0.2560   90.146   \n",
       "\n",
       "       valence  year  duration-min popularity  \n",
       "0      0.03980  1947           3.0   very low  \n",
       "1      0.85900  2020           2.4        low  \n",
       "2      0.70900  1950           2.6   very low  \n",
       "3      0.96400  1974           2.4        low  \n",
       "4      0.78500  1973           3.4    average  \n",
       "...        ...   ...           ...        ...  \n",
       "12222  0.74400  2014           3.4    average  \n",
       "12223  0.70100  1959           2.0  very high  \n",
       "12224  0.89000  1984           2.5        low  \n",
       "12225  0.00558  2017           3.1       high  \n",
       "12226  0.33400  2020           3.1       high  \n",
       "\n",
       "[12227 rows x 17 columns]"
      ]
     },
     "execution_count": 40,
     "metadata": {},
     "output_type": "execute_result"
    }
   ],
   "source": [
    "df"
   ]
  },
  {
   "cell_type": "code",
   "execution_count": 41,
   "metadata": {},
   "outputs": [
    {
     "data": {
      "text/plain": [
       "(12227, 17)"
      ]
     },
     "execution_count": 41,
     "metadata": {},
     "output_type": "execute_result"
    }
   ],
   "source": [
    "df.shape"
   ]
  },
  {
   "cell_type": "code",
   "execution_count": 42,
   "metadata": {},
   "outputs": [
    {
     "data": {
      "text/html": [
       "<div>\n",
       "<style scoped>\n",
       "    .dataframe tbody tr th:only-of-type {\n",
       "        vertical-align: middle;\n",
       "    }\n",
       "\n",
       "    .dataframe tbody tr th {\n",
       "        vertical-align: top;\n",
       "    }\n",
       "\n",
       "    .dataframe thead th {\n",
       "        text-align: right;\n",
       "    }\n",
       "</style>\n",
       "<table border=\"1\" class=\"dataframe\">\n",
       "  <thead>\n",
       "    <tr style=\"text-align: right;\">\n",
       "      <th></th>\n",
       "      <th>id</th>\n",
       "      <th>acousticness</th>\n",
       "      <th>danceability</th>\n",
       "      <th>energy</th>\n",
       "      <th>instrumentalness</th>\n",
       "      <th>key</th>\n",
       "      <th>liveness</th>\n",
       "      <th>loudness</th>\n",
       "      <th>speechiness</th>\n",
       "      <th>tempo</th>\n",
       "      <th>valence</th>\n",
       "      <th>year</th>\n",
       "      <th>duration-min</th>\n",
       "    </tr>\n",
       "  </thead>\n",
       "  <tbody>\n",
       "    <tr>\n",
       "      <th>count</th>\n",
       "      <td>12227.000000</td>\n",
       "      <td>12227.000000</td>\n",
       "      <td>12227.000000</td>\n",
       "      <td>12227.000000</td>\n",
       "      <td>12227.000000</td>\n",
       "      <td>12227.000000</td>\n",
       "      <td>12227.000000</td>\n",
       "      <td>12227.000000</td>\n",
       "      <td>12227.000000</td>\n",
       "      <td>12227.000000</td>\n",
       "      <td>12227.000000</td>\n",
       "      <td>12227.000000</td>\n",
       "      <td>12227.000000</td>\n",
       "    </tr>\n",
       "    <tr>\n",
       "      <th>mean</th>\n",
       "      <td>8094.034350</td>\n",
       "      <td>0.430578</td>\n",
       "      <td>0.556353</td>\n",
       "      <td>0.522129</td>\n",
       "      <td>0.149321</td>\n",
       "      <td>5.205202</td>\n",
       "      <td>0.201365</td>\n",
       "      <td>-10.668687</td>\n",
       "      <td>0.097680</td>\n",
       "      <td>118.167495</td>\n",
       "      <td>0.525300</td>\n",
       "      <td>1984.517298</td>\n",
       "      <td>3.888133</td>\n",
       "    </tr>\n",
       "    <tr>\n",
       "      <th>std</th>\n",
       "      <td>4690.929822</td>\n",
       "      <td>0.366893</td>\n",
       "      <td>0.175373</td>\n",
       "      <td>0.262482</td>\n",
       "      <td>0.297954</td>\n",
       "      <td>3.526954</td>\n",
       "      <td>0.173987</td>\n",
       "      <td>5.506888</td>\n",
       "      <td>0.155895</td>\n",
       "      <td>30.200064</td>\n",
       "      <td>0.258205</td>\n",
       "      <td>25.911998</td>\n",
       "      <td>2.383133</td>\n",
       "    </tr>\n",
       "    <tr>\n",
       "      <th>min</th>\n",
       "      <td>1.000000</td>\n",
       "      <td>0.000001</td>\n",
       "      <td>0.000000</td>\n",
       "      <td>0.000020</td>\n",
       "      <td>0.000000</td>\n",
       "      <td>0.000000</td>\n",
       "      <td>0.014700</td>\n",
       "      <td>-43.738000</td>\n",
       "      <td>0.000000</td>\n",
       "      <td>0.000000</td>\n",
       "      <td>0.000000</td>\n",
       "      <td>1920.000000</td>\n",
       "      <td>0.200000</td>\n",
       "    </tr>\n",
       "    <tr>\n",
       "      <th>25%</th>\n",
       "      <td>4026.000000</td>\n",
       "      <td>0.058950</td>\n",
       "      <td>0.438000</td>\n",
       "      <td>0.303000</td>\n",
       "      <td>0.000000</td>\n",
       "      <td>2.000000</td>\n",
       "      <td>0.096200</td>\n",
       "      <td>-13.656000</td>\n",
       "      <td>0.034700</td>\n",
       "      <td>95.050500</td>\n",
       "      <td>0.321000</td>\n",
       "      <td>1966.000000</td>\n",
       "      <td>2.900000</td>\n",
       "    </tr>\n",
       "    <tr>\n",
       "      <th>50%</th>\n",
       "      <td>8093.000000</td>\n",
       "      <td>0.354000</td>\n",
       "      <td>0.569000</td>\n",
       "      <td>0.534000</td>\n",
       "      <td>0.000115</td>\n",
       "      <td>5.000000</td>\n",
       "      <td>0.132000</td>\n",
       "      <td>-9.584000</td>\n",
       "      <td>0.045600</td>\n",
       "      <td>116.915000</td>\n",
       "      <td>0.532000</td>\n",
       "      <td>1987.000000</td>\n",
       "      <td>3.600000</td>\n",
       "    </tr>\n",
       "    <tr>\n",
       "      <th>75%</th>\n",
       "      <td>12180.000000</td>\n",
       "      <td>0.805000</td>\n",
       "      <td>0.685000</td>\n",
       "      <td>0.739000</td>\n",
       "      <td>0.055650</td>\n",
       "      <td>8.000000</td>\n",
       "      <td>0.252000</td>\n",
       "      <td>-6.571500</td>\n",
       "      <td>0.078900</td>\n",
       "      <td>136.108500</td>\n",
       "      <td>0.737000</td>\n",
       "      <td>2008.000000</td>\n",
       "      <td>4.400000</td>\n",
       "    </tr>\n",
       "    <tr>\n",
       "      <th>max</th>\n",
       "      <td>16227.000000</td>\n",
       "      <td>0.996000</td>\n",
       "      <td>0.980000</td>\n",
       "      <td>1.000000</td>\n",
       "      <td>1.000000</td>\n",
       "      <td>11.000000</td>\n",
       "      <td>0.997000</td>\n",
       "      <td>1.006000</td>\n",
       "      <td>0.968000</td>\n",
       "      <td>216.843000</td>\n",
       "      <td>1.000000</td>\n",
       "      <td>2021.000000</td>\n",
       "      <td>72.800000</td>\n",
       "    </tr>\n",
       "  </tbody>\n",
       "</table>\n",
       "</div>"
      ],
      "text/plain": [
       "                 id  acousticness  danceability        energy  \\\n",
       "count  12227.000000  12227.000000  12227.000000  12227.000000   \n",
       "mean    8094.034350      0.430578      0.556353      0.522129   \n",
       "std     4690.929822      0.366893      0.175373      0.262482   \n",
       "min        1.000000      0.000001      0.000000      0.000020   \n",
       "25%     4026.000000      0.058950      0.438000      0.303000   \n",
       "50%     8093.000000      0.354000      0.569000      0.534000   \n",
       "75%    12180.000000      0.805000      0.685000      0.739000   \n",
       "max    16227.000000      0.996000      0.980000      1.000000   \n",
       "\n",
       "       instrumentalness           key      liveness      loudness  \\\n",
       "count      12227.000000  12227.000000  12227.000000  12227.000000   \n",
       "mean           0.149321      5.205202      0.201365    -10.668687   \n",
       "std            0.297954      3.526954      0.173987      5.506888   \n",
       "min            0.000000      0.000000      0.014700    -43.738000   \n",
       "25%            0.000000      2.000000      0.096200    -13.656000   \n",
       "50%            0.000115      5.000000      0.132000     -9.584000   \n",
       "75%            0.055650      8.000000      0.252000     -6.571500   \n",
       "max            1.000000     11.000000      0.997000      1.006000   \n",
       "\n",
       "        speechiness         tempo       valence          year  duration-min  \n",
       "count  12227.000000  12227.000000  12227.000000  12227.000000  12227.000000  \n",
       "mean       0.097680    118.167495      0.525300   1984.517298      3.888133  \n",
       "std        0.155895     30.200064      0.258205     25.911998      2.383133  \n",
       "min        0.000000      0.000000      0.000000   1920.000000      0.200000  \n",
       "25%        0.034700     95.050500      0.321000   1966.000000      2.900000  \n",
       "50%        0.045600    116.915000      0.532000   1987.000000      3.600000  \n",
       "75%        0.078900    136.108500      0.737000   2008.000000      4.400000  \n",
       "max        0.968000    216.843000      1.000000   2021.000000     72.800000  "
      ]
     },
     "execution_count": 42,
     "metadata": {},
     "output_type": "execute_result"
    }
   ],
   "source": [
    "df.describe()"
   ]
  },
  {
   "cell_type": "code",
   "execution_count": 43,
   "metadata": {},
   "outputs": [
    {
     "name": "stdout",
     "output_type": "stream",
     "text": [
      "<class 'pandas.core.frame.DataFrame'>\n",
      "RangeIndex: 12227 entries, 0 to 12226\n",
      "Data columns (total 17 columns):\n",
      " #   Column            Non-Null Count  Dtype  \n",
      "---  ------            --------------  -----  \n",
      " 0   id                12227 non-null  int64  \n",
      " 1   acousticness      12227 non-null  float64\n",
      " 2   danceability      12227 non-null  float64\n",
      " 3   energy            12227 non-null  float64\n",
      " 4   explicit          12227 non-null  object \n",
      " 5   instrumentalness  12227 non-null  float64\n",
      " 6   key               12227 non-null  int64  \n",
      " 7   liveness          12227 non-null  float64\n",
      " 8   loudness          12227 non-null  float64\n",
      " 9   mode              12227 non-null  object \n",
      " 10  release_date      12227 non-null  object \n",
      " 11  speechiness       12227 non-null  float64\n",
      " 12  tempo             12227 non-null  float64\n",
      " 13  valence           12227 non-null  float64\n",
      " 14  year              12227 non-null  int64  \n",
      " 15  duration-min      12227 non-null  float64\n",
      " 16  popularity        12227 non-null  object \n",
      "dtypes: float64(10), int64(3), object(4)\n",
      "memory usage: 1.6+ MB\n"
     ]
    }
   ],
   "source": [
    "df.info()"
   ]
  },
  {
   "cell_type": "code",
   "execution_count": 44,
   "metadata": {},
   "outputs": [
    {
     "data": {
      "text/plain": [
       "id                  12227\n",
       "acousticness         2714\n",
       "danceability          898\n",
       "energy               1396\n",
       "explicit                2\n",
       "instrumentalness     3658\n",
       "key                    12\n",
       "liveness             1477\n",
       "loudness             8718\n",
       "mode                    2\n",
       "release_date         3859\n",
       "speechiness          1275\n",
       "tempo               11264\n",
       "valence              1256\n",
       "year                  102\n",
       "duration-min          172\n",
       "popularity              5\n",
       "dtype: int64"
      ]
     },
     "execution_count": 44,
     "metadata": {},
     "output_type": "execute_result"
    }
   ],
   "source": [
    "df.nunique()"
   ]
  },
  {
   "cell_type": "code",
   "execution_count": 45,
   "metadata": {},
   "outputs": [
    {
     "data": {
      "text/plain": [
       "id                  0\n",
       "acousticness        0\n",
       "danceability        0\n",
       "energy              0\n",
       "explicit            0\n",
       "instrumentalness    0\n",
       "key                 0\n",
       "liveness            0\n",
       "loudness            0\n",
       "mode                0\n",
       "release_date        0\n",
       "speechiness         0\n",
       "tempo               0\n",
       "valence             0\n",
       "year                0\n",
       "duration-min        0\n",
       "popularity          0\n",
       "dtype: int64"
      ]
     },
     "execution_count": 45,
     "metadata": {},
     "output_type": "execute_result"
    }
   ],
   "source": [
    "df.isnull().sum()"
   ]
  },
  {
   "cell_type": "code",
   "execution_count": 46,
   "metadata": {},
   "outputs": [
    {
     "name": "stdout",
     "output_type": "stream",
     "text": [
      "0         1011947\n",
      "1        13112020\n",
      "2         1011950\n",
      "3        30041974\n",
      "4         1011973\n",
      "           ...   \n",
      "12222     1072014\n",
      "12223     1011959\n",
      "12224     1011984\n",
      "12225     9012017\n",
      "12226    24072020\n",
      "Name: release_date, Length: 12227, dtype: int64\n"
     ]
    }
   ],
   "source": [
    "df['release_date'] = pd.to_numeric(df.release_date.str.replace('-',''))\n",
    "print(df['release_date'])"
   ]
  },
  {
   "cell_type": "code",
   "execution_count": 47,
   "metadata": {},
   "outputs": [],
   "source": [
    "from sklearn import preprocessing \n",
    "label_encoder = preprocessing.LabelEncoder()\n",
    "df['explicit']= label_encoder.fit_transform(df['explicit'])\n",
    "df['mode']= label_encoder.fit_transform(df['mode'])\n"
   ]
  },
  {
   "cell_type": "code",
   "execution_count": 48,
   "metadata": {},
   "outputs": [
    {
     "data": {
      "text/plain": [
       "0    0\n",
       "1    0\n",
       "2    0\n",
       "3    0\n",
       "4    0\n",
       "Name: explicit, dtype: int32"
      ]
     },
     "execution_count": 48,
     "metadata": {},
     "output_type": "execute_result"
    }
   ],
   "source": [
    "df['explicit'].head()"
   ]
  },
  {
   "cell_type": "code",
   "execution_count": 49,
   "metadata": {},
   "outputs": [
    {
     "data": {
      "text/plain": [
       "0    0\n",
       "1    0\n",
       "2    1\n",
       "3    0\n",
       "4    0\n",
       "Name: mode, dtype: int32"
      ]
     },
     "execution_count": 49,
     "metadata": {},
     "output_type": "execute_result"
    }
   ],
   "source": [
    "df['mode'].head()"
   ]
  },
  {
   "cell_type": "code",
   "execution_count": 50,
   "metadata": {},
   "outputs": [
    {
     "data": {
      "text/plain": [
       "0         very low\n",
       "1              low\n",
       "2         very low\n",
       "3              low\n",
       "4          average\n",
       "           ...    \n",
       "12222      average\n",
       "12223    very high\n",
       "12224          low\n",
       "12225         high\n",
       "12226         high\n",
       "Name: popularity, Length: 12227, dtype: object"
      ]
     },
     "execution_count": 50,
     "metadata": {},
     "output_type": "execute_result"
    }
   ],
   "source": [
    "df['popularity']"
   ]
  },
  {
   "cell_type": "code",
   "execution_count": 51,
   "metadata": {},
   "outputs": [
    {
     "name": "stdout",
     "output_type": "stream",
     "text": [
      "0        0\n",
      "1        1\n",
      "2        0\n",
      "3        1\n",
      "4        2\n",
      "        ..\n",
      "12222    2\n",
      "12223    4\n",
      "12224    1\n",
      "12225    3\n",
      "12226    3\n",
      "Name: popularity, Length: 12227, dtype: int64\n"
     ]
    }
   ],
   "source": [
    "df[\"popularity\"].replace({\"very low\": 0, \"low\": 1,\"average\":2,\"very high\":4,\"high\":3}, inplace=True)\n",
    "print(df.popularity)"
   ]
  },
  {
   "cell_type": "code",
   "execution_count": 52,
   "metadata": {},
   "outputs": [
    {
     "data": {
      "text/plain": [
       "0        0\n",
       "1        1\n",
       "2        0\n",
       "3        1\n",
       "4        2\n",
       "        ..\n",
       "12222    2\n",
       "12223    4\n",
       "12224    1\n",
       "12225    3\n",
       "12226    3\n",
       "Name: popularity, Length: 12227, dtype: int32"
      ]
     },
     "execution_count": 52,
     "metadata": {},
     "output_type": "execute_result"
    }
   ],
   "source": [
    "df['popularity']=pd.DataFrame(df['popularity']).astype(int)\n",
    "df['popularity']"
   ]
  },
  {
   "cell_type": "code",
   "execution_count": 53,
   "metadata": {},
   "outputs": [
    {
     "name": "stdout",
     "output_type": "stream",
     "text": [
      "<class 'pandas.core.frame.DataFrame'>\n",
      "RangeIndex: 12227 entries, 0 to 12226\n",
      "Data columns (total 17 columns):\n",
      " #   Column            Non-Null Count  Dtype  \n",
      "---  ------            --------------  -----  \n",
      " 0   id                12227 non-null  int64  \n",
      " 1   acousticness      12227 non-null  float64\n",
      " 2   danceability      12227 non-null  float64\n",
      " 3   energy            12227 non-null  float64\n",
      " 4   explicit          12227 non-null  int32  \n",
      " 5   instrumentalness  12227 non-null  float64\n",
      " 6   key               12227 non-null  int64  \n",
      " 7   liveness          12227 non-null  float64\n",
      " 8   loudness          12227 non-null  float64\n",
      " 9   mode              12227 non-null  int32  \n",
      " 10  release_date      12227 non-null  int64  \n",
      " 11  speechiness       12227 non-null  float64\n",
      " 12  tempo             12227 non-null  float64\n",
      " 13  valence           12227 non-null  float64\n",
      " 14  year              12227 non-null  int64  \n",
      " 15  duration-min      12227 non-null  float64\n",
      " 16  popularity        12227 non-null  int32  \n",
      "dtypes: float64(10), int32(3), int64(4)\n",
      "memory usage: 1.4 MB\n"
     ]
    }
   ],
   "source": [
    "df.info()"
   ]
  },
  {
   "cell_type": "code",
   "execution_count": 54,
   "metadata": {
    "scrolled": true
   },
   "outputs": [
    {
     "data": {
      "text/html": [
       "<div>\n",
       "<style scoped>\n",
       "    .dataframe tbody tr th:only-of-type {\n",
       "        vertical-align: middle;\n",
       "    }\n",
       "\n",
       "    .dataframe tbody tr th {\n",
       "        vertical-align: top;\n",
       "    }\n",
       "\n",
       "    .dataframe thead th {\n",
       "        text-align: right;\n",
       "    }\n",
       "</style>\n",
       "<table border=\"1\" class=\"dataframe\">\n",
       "  <thead>\n",
       "    <tr style=\"text-align: right;\">\n",
       "      <th></th>\n",
       "      <th>id</th>\n",
       "      <th>acousticness</th>\n",
       "      <th>danceability</th>\n",
       "      <th>energy</th>\n",
       "      <th>explicit</th>\n",
       "      <th>instrumentalness</th>\n",
       "      <th>key</th>\n",
       "      <th>liveness</th>\n",
       "      <th>loudness</th>\n",
       "      <th>mode</th>\n",
       "      <th>release_date</th>\n",
       "      <th>speechiness</th>\n",
       "      <th>tempo</th>\n",
       "      <th>valence</th>\n",
       "      <th>year</th>\n",
       "      <th>duration-min</th>\n",
       "      <th>popularity</th>\n",
       "    </tr>\n",
       "  </thead>\n",
       "  <tbody>\n",
       "    <tr>\n",
       "      <th>0</th>\n",
       "      <td>2015</td>\n",
       "      <td>0.9490</td>\n",
       "      <td>0.2350</td>\n",
       "      <td>0.0276</td>\n",
       "      <td>0</td>\n",
       "      <td>0.927000</td>\n",
       "      <td>5</td>\n",
       "      <td>0.513</td>\n",
       "      <td>-27.398</td>\n",
       "      <td>0</td>\n",
       "      <td>1011947</td>\n",
       "      <td>0.0381</td>\n",
       "      <td>110.838</td>\n",
       "      <td>0.03980</td>\n",
       "      <td>1947</td>\n",
       "      <td>3.0</td>\n",
       "      <td>0</td>\n",
       "    </tr>\n",
       "    <tr>\n",
       "      <th>1</th>\n",
       "      <td>15901</td>\n",
       "      <td>0.8550</td>\n",
       "      <td>0.4560</td>\n",
       "      <td>0.4850</td>\n",
       "      <td>0</td>\n",
       "      <td>0.088400</td>\n",
       "      <td>4</td>\n",
       "      <td>0.151</td>\n",
       "      <td>-10.046</td>\n",
       "      <td>0</td>\n",
       "      <td>13112020</td>\n",
       "      <td>0.0437</td>\n",
       "      <td>152.066</td>\n",
       "      <td>0.85900</td>\n",
       "      <td>2020</td>\n",
       "      <td>2.4</td>\n",
       "      <td>1</td>\n",
       "    </tr>\n",
       "    <tr>\n",
       "      <th>2</th>\n",
       "      <td>9002</td>\n",
       "      <td>0.8270</td>\n",
       "      <td>0.4950</td>\n",
       "      <td>0.4990</td>\n",
       "      <td>0</td>\n",
       "      <td>0.000000</td>\n",
       "      <td>0</td>\n",
       "      <td>0.401</td>\n",
       "      <td>-8.009</td>\n",
       "      <td>1</td>\n",
       "      <td>1011950</td>\n",
       "      <td>0.0474</td>\n",
       "      <td>108.004</td>\n",
       "      <td>0.70900</td>\n",
       "      <td>1950</td>\n",
       "      <td>2.6</td>\n",
       "      <td>0</td>\n",
       "    </tr>\n",
       "    <tr>\n",
       "      <th>3</th>\n",
       "      <td>6734</td>\n",
       "      <td>0.6540</td>\n",
       "      <td>0.6430</td>\n",
       "      <td>0.4690</td>\n",
       "      <td>0</td>\n",
       "      <td>0.108000</td>\n",
       "      <td>7</td>\n",
       "      <td>0.218</td>\n",
       "      <td>-15.917</td>\n",
       "      <td>0</td>\n",
       "      <td>30041974</td>\n",
       "      <td>0.0368</td>\n",
       "      <td>83.636</td>\n",
       "      <td>0.96400</td>\n",
       "      <td>1974</td>\n",
       "      <td>2.4</td>\n",
       "      <td>1</td>\n",
       "    </tr>\n",
       "    <tr>\n",
       "      <th>4</th>\n",
       "      <td>15563</td>\n",
       "      <td>0.7380</td>\n",
       "      <td>0.7050</td>\n",
       "      <td>0.3110</td>\n",
       "      <td>0</td>\n",
       "      <td>0.000000</td>\n",
       "      <td>5</td>\n",
       "      <td>0.322</td>\n",
       "      <td>-12.344</td>\n",
       "      <td>0</td>\n",
       "      <td>1011973</td>\n",
       "      <td>0.0488</td>\n",
       "      <td>117.260</td>\n",
       "      <td>0.78500</td>\n",
       "      <td>1973</td>\n",
       "      <td>3.4</td>\n",
       "      <td>2</td>\n",
       "    </tr>\n",
       "    <tr>\n",
       "      <th>...</th>\n",
       "      <td>...</td>\n",
       "      <td>...</td>\n",
       "      <td>...</td>\n",
       "      <td>...</td>\n",
       "      <td>...</td>\n",
       "      <td>...</td>\n",
       "      <td>...</td>\n",
       "      <td>...</td>\n",
       "      <td>...</td>\n",
       "      <td>...</td>\n",
       "      <td>...</td>\n",
       "      <td>...</td>\n",
       "      <td>...</td>\n",
       "      <td>...</td>\n",
       "      <td>...</td>\n",
       "      <td>...</td>\n",
       "      <td>...</td>\n",
       "    </tr>\n",
       "    <tr>\n",
       "      <th>12222</th>\n",
       "      <td>15343</td>\n",
       "      <td>0.0408</td>\n",
       "      <td>0.8090</td>\n",
       "      <td>0.8010</td>\n",
       "      <td>0</td>\n",
       "      <td>0.000000</td>\n",
       "      <td>1</td>\n",
       "      <td>0.353</td>\n",
       "      <td>-5.461</td>\n",
       "      <td>0</td>\n",
       "      <td>1072014</td>\n",
       "      <td>0.4070</td>\n",
       "      <td>81.940</td>\n",
       "      <td>0.74400</td>\n",
       "      <td>2014</td>\n",
       "      <td>3.4</td>\n",
       "      <td>2</td>\n",
       "    </tr>\n",
       "    <tr>\n",
       "      <th>12223</th>\n",
       "      <td>1701</td>\n",
       "      <td>0.9120</td>\n",
       "      <td>0.4510</td>\n",
       "      <td>0.2400</td>\n",
       "      <td>0</td>\n",
       "      <td>0.000002</td>\n",
       "      <td>1</td>\n",
       "      <td>0.175</td>\n",
       "      <td>-14.014</td>\n",
       "      <td>0</td>\n",
       "      <td>1011959</td>\n",
       "      <td>0.0351</td>\n",
       "      <td>134.009</td>\n",
       "      <td>0.70100</td>\n",
       "      <td>1959</td>\n",
       "      <td>2.0</td>\n",
       "      <td>4</td>\n",
       "    </tr>\n",
       "    <tr>\n",
       "      <th>12224</th>\n",
       "      <td>3351</td>\n",
       "      <td>0.3280</td>\n",
       "      <td>0.5510</td>\n",
       "      <td>0.5640</td>\n",
       "      <td>0</td>\n",
       "      <td>0.002950</td>\n",
       "      <td>2</td>\n",
       "      <td>0.352</td>\n",
       "      <td>-9.298</td>\n",
       "      <td>1</td>\n",
       "      <td>1011984</td>\n",
       "      <td>0.0338</td>\n",
       "      <td>124.883</td>\n",
       "      <td>0.89000</td>\n",
       "      <td>1984</td>\n",
       "      <td>2.5</td>\n",
       "      <td>1</td>\n",
       "    </tr>\n",
       "    <tr>\n",
       "      <th>12225</th>\n",
       "      <td>8879</td>\n",
       "      <td>0.1220</td>\n",
       "      <td>0.0608</td>\n",
       "      <td>0.9390</td>\n",
       "      <td>0</td>\n",
       "      <td>0.991000</td>\n",
       "      <td>1</td>\n",
       "      <td>0.912</td>\n",
       "      <td>-26.324</td>\n",
       "      <td>0</td>\n",
       "      <td>9012017</td>\n",
       "      <td>0.1180</td>\n",
       "      <td>73.234</td>\n",
       "      <td>0.00558</td>\n",
       "      <td>2017</td>\n",
       "      <td>3.1</td>\n",
       "      <td>3</td>\n",
       "    </tr>\n",
       "    <tr>\n",
       "      <th>12226</th>\n",
       "      <td>9711</td>\n",
       "      <td>0.0380</td>\n",
       "      <td>0.3890</td>\n",
       "      <td>0.7680</td>\n",
       "      <td>1</td>\n",
       "      <td>0.000000</td>\n",
       "      <td>1</td>\n",
       "      <td>0.119</td>\n",
       "      <td>-4.765</td>\n",
       "      <td>0</td>\n",
       "      <td>24072020</td>\n",
       "      <td>0.2560</td>\n",
       "      <td>90.146</td>\n",
       "      <td>0.33400</td>\n",
       "      <td>2020</td>\n",
       "      <td>3.1</td>\n",
       "      <td>3</td>\n",
       "    </tr>\n",
       "  </tbody>\n",
       "</table>\n",
       "<p>12227 rows × 17 columns</p>\n",
       "</div>"
      ],
      "text/plain": [
       "          id  acousticness  danceability  energy  explicit  instrumentalness  \\\n",
       "0       2015        0.9490        0.2350  0.0276         0          0.927000   \n",
       "1      15901        0.8550        0.4560  0.4850         0          0.088400   \n",
       "2       9002        0.8270        0.4950  0.4990         0          0.000000   \n",
       "3       6734        0.6540        0.6430  0.4690         0          0.108000   \n",
       "4      15563        0.7380        0.7050  0.3110         0          0.000000   \n",
       "...      ...           ...           ...     ...       ...               ...   \n",
       "12222  15343        0.0408        0.8090  0.8010         0          0.000000   \n",
       "12223   1701        0.9120        0.4510  0.2400         0          0.000002   \n",
       "12224   3351        0.3280        0.5510  0.5640         0          0.002950   \n",
       "12225   8879        0.1220        0.0608  0.9390         0          0.991000   \n",
       "12226   9711        0.0380        0.3890  0.7680         1          0.000000   \n",
       "\n",
       "       key  liveness  loudness  mode  release_date  speechiness    tempo  \\\n",
       "0        5     0.513   -27.398     0       1011947       0.0381  110.838   \n",
       "1        4     0.151   -10.046     0      13112020       0.0437  152.066   \n",
       "2        0     0.401    -8.009     1       1011950       0.0474  108.004   \n",
       "3        7     0.218   -15.917     0      30041974       0.0368   83.636   \n",
       "4        5     0.322   -12.344     0       1011973       0.0488  117.260   \n",
       "...    ...       ...       ...   ...           ...          ...      ...   \n",
       "12222    1     0.353    -5.461     0       1072014       0.4070   81.940   \n",
       "12223    1     0.175   -14.014     0       1011959       0.0351  134.009   \n",
       "12224    2     0.352    -9.298     1       1011984       0.0338  124.883   \n",
       "12225    1     0.912   -26.324     0       9012017       0.1180   73.234   \n",
       "12226    1     0.119    -4.765     0      24072020       0.2560   90.146   \n",
       "\n",
       "       valence  year  duration-min  popularity  \n",
       "0      0.03980  1947           3.0           0  \n",
       "1      0.85900  2020           2.4           1  \n",
       "2      0.70900  1950           2.6           0  \n",
       "3      0.96400  1974           2.4           1  \n",
       "4      0.78500  1973           3.4           2  \n",
       "...        ...   ...           ...         ...  \n",
       "12222  0.74400  2014           3.4           2  \n",
       "12223  0.70100  1959           2.0           4  \n",
       "12224  0.89000  1984           2.5           1  \n",
       "12225  0.00558  2017           3.1           3  \n",
       "12226  0.33400  2020           3.1           3  \n",
       "\n",
       "[12227 rows x 17 columns]"
      ]
     },
     "execution_count": 54,
     "metadata": {},
     "output_type": "execute_result"
    }
   ],
   "source": [
    "df"
   ]
  },
  {
   "cell_type": "code",
   "execution_count": 55,
   "metadata": {},
   "outputs": [],
   "source": [
    "X = df.iloc[:, :-1].values\n",
    "y = df.iloc[:, -1].values"
   ]
  },
  {
   "cell_type": "code",
   "execution_count": 56,
   "metadata": {},
   "outputs": [],
   "source": [
    "from sklearn.model_selection import train_test_split\n",
    "X_train, X_test, y_train, y_test = train_test_split(X, y, test_size = 0.2, random_state=0)"
   ]
  },
  {
   "cell_type": "code",
   "execution_count": null,
   "metadata": {},
   "outputs": [],
   "source": []
  },
  {
   "cell_type": "code",
   "execution_count": null,
   "metadata": {},
   "outputs": [],
   "source": []
  },
  {
   "cell_type": "code",
   "execution_count": 57,
   "metadata": {},
   "outputs": [],
   "source": [
    "from sklearn.preprocessing import StandardScaler\n",
    "sc=StandardScaler()\n",
    "X_train=sc.fit_transform(X_train)\n",
    "X_test=sc.transform(X_test)"
   ]
  },
  {
   "cell_type": "code",
   "execution_count": 34,
   "metadata": {},
   "outputs": [
    {
     "name": "stdout",
     "output_type": "stream",
     "text": [
      "Collecting imblearn\n",
      "  Using cached imblearn-0.0-py2.py3-none-any.whl (1.9 kB)\n",
      "Collecting imbalanced-learn\n",
      "  Using cached imbalanced_learn-0.8.0-py3-none-any.whl (206 kB)\n",
      "Requirement already satisfied: joblib>=0.11 in c:\\users\\hp\\anaconda3\\lib\\site-packages (from imbalanced-learn->imblearn) (0.16.0)\n",
      "Requirement already satisfied: scipy>=0.19.1 in c:\\users\\hp\\anaconda3\\lib\\site-packages (from imbalanced-learn->imblearn) (1.5.0)\n",
      "Collecting scikit-learn>=0.24\n",
      "  Using cached scikit_learn-0.24.1-cp38-cp38-win_amd64.whl (6.9 MB)\n",
      "Requirement already satisfied: numpy>=1.13.3 in c:\\users\\hp\\anaconda3\\lib\\site-packages (from imbalanced-learn->imblearn) (1.19.4)\n",
      "Requirement already satisfied: threadpoolctl>=2.0.0 in c:\\users\\hp\\anaconda3\\lib\\site-packages (from scikit-learn>=0.24->imbalanced-learn->imblearn) (2.1.0)\n",
      "Installing collected packages: scikit-learn, imbalanced-learn, imblearn\n",
      "  Attempting uninstall: scikit-learn\n",
      "    Found existing installation: scikit-learn 0.23.1\n",
      "    Uninstalling scikit-learn-0.23.1:\n",
      "      Successfully uninstalled scikit-learn-0.23.1\n",
      "Successfully installed imbalanced-learn-0.8.0 imblearn-0.0 scikit-learn-0.24.1\n"
     ]
    }
   ],
   "source": [
    "!pip install imblearn"
   ]
  },
  {
   "cell_type": "code",
   "execution_count": 61,
   "metadata": {},
   "outputs": [
    {
     "name": "stdout",
     "output_type": "stream",
     "text": [
      "Collecting scikit-learn==0.23.1\n",
      "  Using cached scikit_learn-0.23.1-cp38-cp38-win_amd64.whl (6.8 MB)\n",
      "Requirement already satisfied: numpy>=1.13.3 in c:\\users\\hp\\anaconda3\\lib\\site-packages (from scikit-learn==0.23.1) (1.19.4)\n",
      "Requirement already satisfied: joblib>=0.11 in c:\\users\\hp\\anaconda3\\lib\\site-packages (from scikit-learn==0.23.1) (0.16.0)\n",
      "Requirement already satisfied: threadpoolctl>=2.0.0 in c:\\users\\hp\\anaconda3\\lib\\site-packages (from scikit-learn==0.23.1) (2.1.0)\n",
      "Requirement already satisfied: scipy>=0.19.1 in c:\\users\\hp\\anaconda3\\lib\\site-packages (from scikit-learn==0.23.1) (1.5.0)\n",
      "Installing collected packages: scikit-learn\n",
      "  Attempting uninstall: scikit-learn\n",
      "    Found existing installation: scikit-learn 0.24.1\n",
      "    Uninstalling scikit-learn-0.24.1:\n",
      "      Successfully uninstalled scikit-learn-0.24.1\n"
     ]
    },
    {
     "name": "stderr",
     "output_type": "stream",
     "text": [
      "ERROR: imbalanced-learn 0.8.0 has requirement scikit-learn>=0.24, but you'll have scikit-learn 0.23.1 which is incompatible.\n",
      "ERROR: Could not install packages due to an EnvironmentError: [WinError 5] Access is denied: 'C:\\\\Users\\\\HP\\\\anaconda3\\\\Lib\\\\site-packages\\\\~.learn\\\\neighbors\\\\_ball_tree.cp38-win_amd64.pyd'\n",
      "Consider using the `--user` option or check the permissions.\n",
      "\n"
     ]
    }
   ],
   "source": [
    "!pip install scikit-learn==0.23.1"
   ]
  },
  {
   "cell_type": "code",
   "execution_count": 60,
   "metadata": {},
   "outputs": [
    {
     "ename": "ImportError",
     "evalue": "cannot import name 'delayed' from 'sklearn.utils.fixes' (C:\\Users\\HP\\anaconda3\\lib\\site-packages\\sklearn\\utils\\fixes.py)",
     "output_type": "error",
     "traceback": [
      "\u001b[1;31m---------------------------------------------------------------------------\u001b[0m",
      "\u001b[1;31mImportError\u001b[0m                               Traceback (most recent call last)",
      "\u001b[1;32m<ipython-input-60-46dd8021418f>\u001b[0m in \u001b[0;36m<module>\u001b[1;34m\u001b[0m\n\u001b[1;32m----> 1\u001b[1;33m \u001b[1;32mfrom\u001b[0m \u001b[0mimblearn\u001b[0m\u001b[1;33m.\u001b[0m\u001b[0mover_sampling\u001b[0m \u001b[1;32mimport\u001b[0m \u001b[0mSMOTE\u001b[0m\u001b[1;33m\u001b[0m\u001b[1;33m\u001b[0m\u001b[0m\n\u001b[0m\u001b[0;32m      2\u001b[0m \u001b[0msm\u001b[0m \u001b[1;33m=\u001b[0m \u001b[0mSMOTE\u001b[0m\u001b[1;33m(\u001b[0m\u001b[0mrandom_state\u001b[0m \u001b[1;33m=\u001b[0m \u001b[1;36m5\u001b[0m\u001b[1;33m)\u001b[0m\u001b[1;33m\u001b[0m\u001b[1;33m\u001b[0m\u001b[0m\n\u001b[0;32m      3\u001b[0m \u001b[0mX_train_res\u001b[0m\u001b[1;33m,\u001b[0m \u001b[0my_train_res\u001b[0m \u001b[1;33m=\u001b[0m \u001b[0msm\u001b[0m\u001b[1;33m.\u001b[0m\u001b[0mfit_sample\u001b[0m\u001b[1;33m(\u001b[0m\u001b[0mX_train\u001b[0m\u001b[1;33m,\u001b[0m \u001b[0my_train\u001b[0m\u001b[1;33m.\u001b[0m\u001b[0mravel\u001b[0m\u001b[1;33m(\u001b[0m\u001b[1;33m)\u001b[0m\u001b[1;33m)\u001b[0m\u001b[1;33m\u001b[0m\u001b[1;33m\u001b[0m\u001b[0m\n\u001b[0;32m      4\u001b[0m \u001b[1;33m\u001b[0m\u001b[0m\n\u001b[0;32m      5\u001b[0m \u001b[0mprint\u001b[0m\u001b[1;33m(\u001b[0m\u001b[1;34m'After OverSampling, the shape of train_X: {}'\u001b[0m\u001b[1;33m.\u001b[0m\u001b[0mformat\u001b[0m\u001b[1;33m(\u001b[0m\u001b[0mX_train_res\u001b[0m\u001b[1;33m.\u001b[0m\u001b[0mshape\u001b[0m\u001b[1;33m)\u001b[0m\u001b[1;33m)\u001b[0m\u001b[1;33m\u001b[0m\u001b[1;33m\u001b[0m\u001b[0m\n",
      "\u001b[1;32m~\\anaconda3\\lib\\site-packages\\imblearn\\__init__.py\u001b[0m in \u001b[0;36m<module>\u001b[1;34m\u001b[0m\n\u001b[0;32m     35\u001b[0m \u001b[1;32mimport\u001b[0m \u001b[0mtypes\u001b[0m\u001b[1;33m\u001b[0m\u001b[1;33m\u001b[0m\u001b[0m\n\u001b[0;32m     36\u001b[0m \u001b[1;33m\u001b[0m\u001b[0m\n\u001b[1;32m---> 37\u001b[1;33m \u001b[1;32mfrom\u001b[0m \u001b[1;33m.\u001b[0m \u001b[1;32mimport\u001b[0m \u001b[0mcombine\u001b[0m\u001b[1;33m\u001b[0m\u001b[1;33m\u001b[0m\u001b[0m\n\u001b[0m\u001b[0;32m     38\u001b[0m \u001b[1;32mfrom\u001b[0m \u001b[1;33m.\u001b[0m \u001b[1;32mimport\u001b[0m \u001b[0mensemble\u001b[0m\u001b[1;33m\u001b[0m\u001b[1;33m\u001b[0m\u001b[0m\n\u001b[0;32m     39\u001b[0m \u001b[1;32mfrom\u001b[0m \u001b[1;33m.\u001b[0m \u001b[1;32mimport\u001b[0m \u001b[0mexceptions\u001b[0m\u001b[1;33m\u001b[0m\u001b[1;33m\u001b[0m\u001b[0m\n",
      "\u001b[1;32m~\\anaconda3\\lib\\site-packages\\imblearn\\combine\\__init__.py\u001b[0m in \u001b[0;36m<module>\u001b[1;34m\u001b[0m\n\u001b[0;32m      3\u001b[0m \"\"\"\n\u001b[0;32m      4\u001b[0m \u001b[1;33m\u001b[0m\u001b[0m\n\u001b[1;32m----> 5\u001b[1;33m \u001b[1;32mfrom\u001b[0m \u001b[1;33m.\u001b[0m\u001b[0m_smote_enn\u001b[0m \u001b[1;32mimport\u001b[0m \u001b[0mSMOTEENN\u001b[0m\u001b[1;33m\u001b[0m\u001b[1;33m\u001b[0m\u001b[0m\n\u001b[0m\u001b[0;32m      6\u001b[0m \u001b[1;32mfrom\u001b[0m \u001b[1;33m.\u001b[0m\u001b[0m_smote_tomek\u001b[0m \u001b[1;32mimport\u001b[0m \u001b[0mSMOTETomek\u001b[0m\u001b[1;33m\u001b[0m\u001b[1;33m\u001b[0m\u001b[0m\n\u001b[0;32m      7\u001b[0m \u001b[1;33m\u001b[0m\u001b[0m\n",
      "\u001b[1;32m~\\anaconda3\\lib\\site-packages\\imblearn\\combine\\_smote_enn.py\u001b[0m in \u001b[0;36m<module>\u001b[1;34m\u001b[0m\n\u001b[0;32m      8\u001b[0m \u001b[1;32mfrom\u001b[0m \u001b[0msklearn\u001b[0m\u001b[1;33m.\u001b[0m\u001b[0mutils\u001b[0m \u001b[1;32mimport\u001b[0m \u001b[0mcheck_X_y\u001b[0m\u001b[1;33m\u001b[0m\u001b[1;33m\u001b[0m\u001b[0m\n\u001b[0;32m      9\u001b[0m \u001b[1;33m\u001b[0m\u001b[0m\n\u001b[1;32m---> 10\u001b[1;33m \u001b[1;32mfrom\u001b[0m \u001b[1;33m.\u001b[0m\u001b[1;33m.\u001b[0m\u001b[0mbase\u001b[0m \u001b[1;32mimport\u001b[0m \u001b[0mBaseSampler\u001b[0m\u001b[1;33m\u001b[0m\u001b[1;33m\u001b[0m\u001b[0m\n\u001b[0m\u001b[0;32m     11\u001b[0m \u001b[1;32mfrom\u001b[0m \u001b[1;33m.\u001b[0m\u001b[1;33m.\u001b[0m\u001b[0mover_sampling\u001b[0m \u001b[1;32mimport\u001b[0m \u001b[0mSMOTE\u001b[0m\u001b[1;33m\u001b[0m\u001b[1;33m\u001b[0m\u001b[0m\n\u001b[0;32m     12\u001b[0m \u001b[1;32mfrom\u001b[0m \u001b[1;33m.\u001b[0m\u001b[1;33m.\u001b[0m\u001b[0mover_sampling\u001b[0m\u001b[1;33m.\u001b[0m\u001b[0mbase\u001b[0m \u001b[1;32mimport\u001b[0m \u001b[0mBaseOverSampler\u001b[0m\u001b[1;33m\u001b[0m\u001b[1;33m\u001b[0m\u001b[0m\n",
      "\u001b[1;32m~\\anaconda3\\lib\\site-packages\\imblearn\\base.py\u001b[0m in \u001b[0;36m<module>\u001b[1;34m\u001b[0m\n\u001b[0;32m     13\u001b[0m \u001b[1;32mfrom\u001b[0m \u001b[0msklearn\u001b[0m\u001b[1;33m.\u001b[0m\u001b[0mutils\u001b[0m\u001b[1;33m.\u001b[0m\u001b[0mmulticlass\u001b[0m \u001b[1;32mimport\u001b[0m \u001b[0mcheck_classification_targets\u001b[0m\u001b[1;33m\u001b[0m\u001b[1;33m\u001b[0m\u001b[0m\n\u001b[0;32m     14\u001b[0m \u001b[1;33m\u001b[0m\u001b[0m\n\u001b[1;32m---> 15\u001b[1;33m \u001b[1;32mfrom\u001b[0m \u001b[1;33m.\u001b[0m\u001b[0mutils\u001b[0m \u001b[1;32mimport\u001b[0m \u001b[0mcheck_sampling_strategy\u001b[0m\u001b[1;33m,\u001b[0m \u001b[0mcheck_target_type\u001b[0m\u001b[1;33m\u001b[0m\u001b[1;33m\u001b[0m\u001b[0m\n\u001b[0m\u001b[0;32m     16\u001b[0m \u001b[1;32mfrom\u001b[0m \u001b[1;33m.\u001b[0m\u001b[0mutils\u001b[0m\u001b[1;33m.\u001b[0m\u001b[0m_validation\u001b[0m \u001b[1;32mimport\u001b[0m \u001b[0mArraysTransformer\u001b[0m\u001b[1;33m\u001b[0m\u001b[1;33m\u001b[0m\u001b[0m\n\u001b[0;32m     17\u001b[0m \u001b[1;32mfrom\u001b[0m \u001b[1;33m.\u001b[0m\u001b[0mutils\u001b[0m\u001b[1;33m.\u001b[0m\u001b[0m_validation\u001b[0m \u001b[1;32mimport\u001b[0m \u001b[0m_deprecate_positional_args\u001b[0m\u001b[1;33m\u001b[0m\u001b[1;33m\u001b[0m\u001b[0m\n",
      "\u001b[1;32m~\\anaconda3\\lib\\site-packages\\imblearn\\utils\\__init__.py\u001b[0m in \u001b[0;36m<module>\u001b[1;34m\u001b[0m\n\u001b[0;32m      5\u001b[0m \u001b[1;32mfrom\u001b[0m \u001b[1;33m.\u001b[0m\u001b[0m_docstring\u001b[0m \u001b[1;32mimport\u001b[0m \u001b[0mSubstitution\u001b[0m\u001b[1;33m\u001b[0m\u001b[1;33m\u001b[0m\u001b[0m\n\u001b[0;32m      6\u001b[0m \u001b[1;33m\u001b[0m\u001b[0m\n\u001b[1;32m----> 7\u001b[1;33m \u001b[1;32mfrom\u001b[0m \u001b[1;33m.\u001b[0m\u001b[0m_validation\u001b[0m \u001b[1;32mimport\u001b[0m \u001b[0mcheck_neighbors_object\u001b[0m\u001b[1;33m\u001b[0m\u001b[1;33m\u001b[0m\u001b[0m\n\u001b[0m\u001b[0;32m      8\u001b[0m \u001b[1;32mfrom\u001b[0m \u001b[1;33m.\u001b[0m\u001b[0m_validation\u001b[0m \u001b[1;32mimport\u001b[0m \u001b[0mcheck_target_type\u001b[0m\u001b[1;33m\u001b[0m\u001b[1;33m\u001b[0m\u001b[0m\n\u001b[0;32m      9\u001b[0m \u001b[1;32mfrom\u001b[0m \u001b[1;33m.\u001b[0m\u001b[0m_validation\u001b[0m \u001b[1;32mimport\u001b[0m \u001b[0mcheck_sampling_strategy\u001b[0m\u001b[1;33m\u001b[0m\u001b[1;33m\u001b[0m\u001b[0m\n",
      "\u001b[1;32m~\\anaconda3\\lib\\site-packages\\imblearn\\utils\\_validation.py\u001b[0m in \u001b[0;36m<module>\u001b[1;34m\u001b[0m\n\u001b[0;32m     13\u001b[0m \u001b[1;33m\u001b[0m\u001b[0m\n\u001b[0;32m     14\u001b[0m \u001b[1;32mfrom\u001b[0m \u001b[0msklearn\u001b[0m\u001b[1;33m.\u001b[0m\u001b[0mbase\u001b[0m \u001b[1;32mimport\u001b[0m \u001b[0mclone\u001b[0m\u001b[1;33m\u001b[0m\u001b[1;33m\u001b[0m\u001b[0m\n\u001b[1;32m---> 15\u001b[1;33m \u001b[1;32mfrom\u001b[0m \u001b[0msklearn\u001b[0m\u001b[1;33m.\u001b[0m\u001b[0mneighbors\u001b[0m\u001b[1;33m.\u001b[0m\u001b[0m_base\u001b[0m \u001b[1;32mimport\u001b[0m \u001b[0mKNeighborsMixin\u001b[0m\u001b[1;33m\u001b[0m\u001b[1;33m\u001b[0m\u001b[0m\n\u001b[0m\u001b[0;32m     16\u001b[0m \u001b[1;32mfrom\u001b[0m \u001b[0msklearn\u001b[0m\u001b[1;33m.\u001b[0m\u001b[0mneighbors\u001b[0m \u001b[1;32mimport\u001b[0m \u001b[0mNearestNeighbors\u001b[0m\u001b[1;33m\u001b[0m\u001b[1;33m\u001b[0m\u001b[0m\n\u001b[0;32m     17\u001b[0m \u001b[1;32mfrom\u001b[0m \u001b[0msklearn\u001b[0m\u001b[1;33m.\u001b[0m\u001b[0mutils\u001b[0m \u001b[1;32mimport\u001b[0m \u001b[0mcolumn_or_1d\u001b[0m\u001b[1;33m\u001b[0m\u001b[1;33m\u001b[0m\u001b[0m\n",
      "\u001b[1;32m~\\anaconda3\\lib\\site-packages\\sklearn\\neighbors\\__init__.py\u001b[0m in \u001b[0;36m<module>\u001b[1;34m\u001b[0m\n\u001b[0;32m      7\u001b[0m \u001b[1;32mfrom\u001b[0m \u001b[1;33m.\u001b[0m\u001b[0m_kd_tree\u001b[0m \u001b[1;32mimport\u001b[0m \u001b[0mKDTree\u001b[0m\u001b[1;33m\u001b[0m\u001b[1;33m\u001b[0m\u001b[0m\n\u001b[0;32m      8\u001b[0m \u001b[1;32mfrom\u001b[0m \u001b[1;33m.\u001b[0m\u001b[0m_dist_metrics\u001b[0m \u001b[1;32mimport\u001b[0m \u001b[0mDistanceMetric\u001b[0m\u001b[1;33m\u001b[0m\u001b[1;33m\u001b[0m\u001b[0m\n\u001b[1;32m----> 9\u001b[1;33m \u001b[1;32mfrom\u001b[0m \u001b[1;33m.\u001b[0m\u001b[0m_graph\u001b[0m \u001b[1;32mimport\u001b[0m \u001b[0mkneighbors_graph\u001b[0m\u001b[1;33m,\u001b[0m \u001b[0mradius_neighbors_graph\u001b[0m\u001b[1;33m\u001b[0m\u001b[1;33m\u001b[0m\u001b[0m\n\u001b[0m\u001b[0;32m     10\u001b[0m \u001b[1;32mfrom\u001b[0m \u001b[1;33m.\u001b[0m\u001b[0m_graph\u001b[0m \u001b[1;32mimport\u001b[0m \u001b[0mKNeighborsTransformer\u001b[0m\u001b[1;33m,\u001b[0m \u001b[0mRadiusNeighborsTransformer\u001b[0m\u001b[1;33m\u001b[0m\u001b[1;33m\u001b[0m\u001b[0m\n\u001b[0;32m     11\u001b[0m \u001b[1;32mfrom\u001b[0m \u001b[1;33m.\u001b[0m\u001b[0m_unsupervised\u001b[0m \u001b[1;32mimport\u001b[0m \u001b[0mNearestNeighbors\u001b[0m\u001b[1;33m\u001b[0m\u001b[1;33m\u001b[0m\u001b[0m\n",
      "\u001b[1;32m~\\anaconda3\\lib\\site-packages\\sklearn\\neighbors\\_graph.py\u001b[0m in \u001b[0;36m<module>\u001b[1;34m\u001b[0m\n\u001b[0;32m      5\u001b[0m \u001b[1;31m#\u001b[0m\u001b[1;33m\u001b[0m\u001b[1;33m\u001b[0m\u001b[1;33m\u001b[0m\u001b[0m\n\u001b[0;32m      6\u001b[0m \u001b[1;31m# License: BSD 3 clause (C) INRIA, University of Amsterdam\u001b[0m\u001b[1;33m\u001b[0m\u001b[1;33m\u001b[0m\u001b[1;33m\u001b[0m\u001b[0m\n\u001b[1;32m----> 7\u001b[1;33m \u001b[1;32mfrom\u001b[0m \u001b[1;33m.\u001b[0m\u001b[0m_base\u001b[0m \u001b[1;32mimport\u001b[0m \u001b[0mKNeighborsMixin\u001b[0m\u001b[1;33m,\u001b[0m \u001b[0mRadiusNeighborsMixin\u001b[0m\u001b[1;33m\u001b[0m\u001b[1;33m\u001b[0m\u001b[0m\n\u001b[0m\u001b[0;32m      8\u001b[0m \u001b[1;32mfrom\u001b[0m \u001b[1;33m.\u001b[0m\u001b[0m_base\u001b[0m \u001b[1;32mimport\u001b[0m \u001b[0mNeighborsBase\u001b[0m\u001b[1;33m\u001b[0m\u001b[1;33m\u001b[0m\u001b[0m\n\u001b[0;32m      9\u001b[0m \u001b[1;32mfrom\u001b[0m \u001b[1;33m.\u001b[0m\u001b[0m_unsupervised\u001b[0m \u001b[1;32mimport\u001b[0m \u001b[0mNearestNeighbors\u001b[0m\u001b[1;33m\u001b[0m\u001b[1;33m\u001b[0m\u001b[0m\n",
      "\u001b[1;32m~\\anaconda3\\lib\\site-packages\\sklearn\\neighbors\\_base.py\u001b[0m in \u001b[0;36m<module>\u001b[1;34m\u001b[0m\n\u001b[0;32m     33\u001b[0m \u001b[1;32mfrom\u001b[0m \u001b[1;33m.\u001b[0m\u001b[1;33m.\u001b[0m\u001b[0mutils\u001b[0m\u001b[1;33m.\u001b[0m\u001b[0mvalidation\u001b[0m \u001b[1;32mimport\u001b[0m \u001b[0mcheck_is_fitted\u001b[0m\u001b[1;33m\u001b[0m\u001b[1;33m\u001b[0m\u001b[0m\n\u001b[0;32m     34\u001b[0m \u001b[1;32mfrom\u001b[0m \u001b[1;33m.\u001b[0m\u001b[1;33m.\u001b[0m\u001b[0mutils\u001b[0m\u001b[1;33m.\u001b[0m\u001b[0mvalidation\u001b[0m \u001b[1;32mimport\u001b[0m \u001b[0mcheck_non_negative\u001b[0m\u001b[1;33m\u001b[0m\u001b[1;33m\u001b[0m\u001b[0m\n\u001b[1;32m---> 35\u001b[1;33m \u001b[1;32mfrom\u001b[0m \u001b[1;33m.\u001b[0m\u001b[1;33m.\u001b[0m\u001b[0mutils\u001b[0m\u001b[1;33m.\u001b[0m\u001b[0mfixes\u001b[0m \u001b[1;32mimport\u001b[0m \u001b[0mdelayed\u001b[0m\u001b[1;33m\u001b[0m\u001b[1;33m\u001b[0m\u001b[0m\n\u001b[0m\u001b[0;32m     36\u001b[0m \u001b[1;32mfrom\u001b[0m \u001b[1;33m.\u001b[0m\u001b[1;33m.\u001b[0m\u001b[0mutils\u001b[0m\u001b[1;33m.\u001b[0m\u001b[0mfixes\u001b[0m \u001b[1;32mimport\u001b[0m \u001b[0mparse_version\u001b[0m\u001b[1;33m\u001b[0m\u001b[1;33m\u001b[0m\u001b[0m\n\u001b[0;32m     37\u001b[0m \u001b[1;32mfrom\u001b[0m \u001b[1;33m.\u001b[0m\u001b[1;33m.\u001b[0m\u001b[0mexceptions\u001b[0m \u001b[1;32mimport\u001b[0m \u001b[0mDataConversionWarning\u001b[0m\u001b[1;33m,\u001b[0m \u001b[0mEfficiencyWarning\u001b[0m\u001b[1;33m\u001b[0m\u001b[1;33m\u001b[0m\u001b[0m\n",
      "\u001b[1;31mImportError\u001b[0m: cannot import name 'delayed' from 'sklearn.utils.fixes' (C:\\Users\\HP\\anaconda3\\lib\\site-packages\\sklearn\\utils\\fixes.py)"
     ]
    }
   ],
   "source": [
    "from imblearn.over_sampling import SMOTE\n",
    "sm = SMOTE(random_state = 5) \n",
    "X_train_res, y_train_res = sm.fit_sample(X_train, y_train.ravel()) \n",
    "  \n",
    "print('After OverSampling, the shape of train_X: {}'.format(X_train_res.shape)) \n",
    "print('After OverSampling, the shape of train_y: {} \\n'.format(y_train_res.shape)) \n",
    "\n",
    "print(\"After OverSampling, counts of label '4': {}\".format(sum(y_train_res == 4))) \n",
    "print(\"After OverSampling, counts of label '3': {}\".format(sum(y_train_res == 3))) \n",
    "print(\"After OverSampling, counts of label '2': {}\".format(sum(y_train_res == 2))) \n",
    "print(\"After OverSampling, counts of label '1': {}\".format(sum(y_train_res == 1))) \n",
    "print(\"After OverSampling, counts of label '0': {}\".format(sum(y_train_res == 0)))"
   ]
  },
  {
   "cell_type": "code",
   "execution_count": 59,
   "metadata": {},
   "outputs": [
    {
     "data": {
      "text/plain": [
       "SVC(random_state=0)"
      ]
     },
     "execution_count": 59,
     "metadata": {},
     "output_type": "execute_result"
    }
   ],
   "source": [
    "from sklearn.svm import SVC\n",
    "classifier=SVC(kernel='rbf', random_state=0)\n",
    "classifier.fit(X_train,y_train)"
   ]
  },
  {
   "cell_type": "code",
   "execution_count": null,
   "metadata": {},
   "outputs": [],
   "source": []
  },
  {
   "cell_type": "code",
   "execution_count": 56,
   "metadata": {},
   "outputs": [],
   "source": [
    "y_pred = classifier.predict(X_test)"
   ]
  },
  {
   "cell_type": "code",
   "execution_count": 57,
   "metadata": {},
   "outputs": [
    {
     "data": {
      "text/plain": [
       "0.6103843008994276"
      ]
     },
     "execution_count": 57,
     "metadata": {},
     "output_type": "execute_result"
    }
   ],
   "source": [
    "from sklearn.metrics import confusion_matrix,accuracy_score\n",
    "\n",
    "accuracy_score(y_test,y_pred)"
   ]
  },
  {
   "cell_type": "code",
   "execution_count": 44,
   "metadata": {},
   "outputs": [],
   "source": [
    "from sklearn.linear_model import LogisticRegression\n",
    "from sklearn.ensemble import RandomForestClassifier\n",
    "from sklearn.neighbors import KNeighborsClassifier\n",
    "from sklearn.tree import DecisionTreeClassifier\n",
    "from sklearn.svm import SVC, LinearSVC\n",
    "\n",
    "\n",
    "from sklearn.metrics import make_scorer, accuracy_score, roc_auc_score \n",
    "from sklearn.model_selection import GridSearchCV\n",
    "from sklearn.model_selection import train_test_split"
   ]
  },
  {
   "cell_type": "code",
   "execution_count": 46,
   "metadata": {},
   "outputs": [
    {
     "name": "stdout",
     "output_type": "stream",
     "text": [
      "Accuracy: 0.5437448896156991\n"
     ]
    }
   ],
   "source": [
    "LR_Model = LogisticRegression()\n",
    "LR_Model.fit(X_train, y_train)\n",
    "LR_Predict = LR_Model.predict(X_test)\n",
    "LR_Accuracy = accuracy_score(y_test, LR_Predict)\n",
    "print(\"Accuracy: \" + str(LR_Accuracy))\n"
   ]
  },
  {
   "cell_type": "code",
   "execution_count": 48,
   "metadata": {},
   "outputs": [
    {
     "name": "stdout",
     "output_type": "stream",
     "text": [
      "Accuracy: 0.6291905151267375\n"
     ]
    }
   ],
   "source": [
    "RFC_Model = RandomForestClassifier()\n",
    "RFC_Model.fit(X_train, y_train)\n",
    "RFC_Predict = RFC_Model.predict(X_test)\n",
    "RFC_Accuracy = accuracy_score(y_test, RFC_Predict)\n",
    "print(\"Accuracy: \" + str(RFC_Accuracy))"
   ]
  },
  {
   "cell_type": "code",
   "execution_count": 49,
   "metadata": {},
   "outputs": [
    {
     "name": "stdout",
     "output_type": "stream",
     "text": [
      "Accuracy: 0.5306623058053965\n"
     ]
    }
   ],
   "source": [
    "KNN_Model = KNeighborsClassifier()\n",
    "KNN_Model.fit(X_train, y_train)\n",
    "KNN_Predict = KNN_Model.predict(X_test)\n",
    "KNN_Accuracy = accuracy_score(y_test, KNN_Predict)\n",
    "print(\"Accuracy: \" + str(KNN_Accuracy))"
   ]
  },
  {
   "cell_type": "code",
   "execution_count": 51,
   "metadata": {},
   "outputs": [
    {
     "name": "stdout",
     "output_type": "stream",
     "text": [
      "Accuracy: 0.5208503679476697\n"
     ]
    }
   ],
   "source": [
    "DT_Model = DecisionTreeClassifier()\n",
    "DT_Model.fit(X_train, y_train)\n",
    "DT_Predict = DT_Model.predict(X_test)\n",
    "DT_Accuracy = accuracy_score(y_test, DT_Predict)\n",
    "print(\"Accuracy: \" + str(DT_Accuracy))"
   ]
  },
  {
   "cell_type": "code",
   "execution_count": 58,
   "metadata": {},
   "outputs": [
    {
     "name": "stdout",
     "output_type": "stream",
     "text": [
      "Accuracy: 0.5167620605069502\n"
     ]
    }
   ],
   "source": [
    "LSVC_Model = LinearSVC()\n",
    "LSVC_Model.fit(X_train, y_train)\n",
    "LSVC_Predict = LSVC_Model.predict(X_test)\n",
    "LSVC_Accuracy = accuracy_score(y_test, LSVC_Predict)\n",
    "print(\"Accuracy: \" + str(LSVC_Accuracy))"
   ]
  },
  {
   "cell_type": "code",
   "execution_count": 60,
   "metadata": {},
   "outputs": [
    {
     "name": "stdout",
     "output_type": "stream",
     "text": [
      "Accuracy: 0.4987735077677841\n"
     ]
    }
   ],
   "source": [
    "from sklearn.naive_bayes import GaussianNB\n",
    "nb= GaussianNB()\n",
    "nb.fit(X_train,y_train)\n",
    "print(\"Accuracy:\",nb.score(X_test,y_test))"
   ]
  },
  {
   "cell_type": "code",
   "execution_count": null,
   "metadata": {},
   "outputs": [],
   "source": []
  }
 ],
 "metadata": {
  "kernelspec": {
   "display_name": "Python 3",
   "language": "python",
   "name": "python3"
  },
  "language_info": {
   "codemirror_mode": {
    "name": "ipython",
    "version": 3
   },
   "file_extension": ".py",
   "mimetype": "text/x-python",
   "name": "python",
   "nbconvert_exporter": "python",
   "pygments_lexer": "ipython3",
   "version": "3.8.3"
  }
 },
 "nbformat": 4,
 "nbformat_minor": 4
}
